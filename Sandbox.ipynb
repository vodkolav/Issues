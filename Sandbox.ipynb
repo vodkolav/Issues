{
 "cells": [
  {
   "cell_type": "code",
   "execution_count": null,
   "metadata": {
    "nbpresent": {
     "id": "eb51d092-b42d-4368-8a37-7d97d7780a49"
    }
   },
   "outputs": [],
   "source": [
    "!conda install -y pymysql mysql-connector-python MySQLdb"
   ]
  },
  {
   "cell_type": "code",
   "execution_count": null,
   "metadata": {
    "nbpresent": {
     "id": "8af77def-2e72-4e3c-8c7f-db4354e91ae7"
    }
   },
   "outputs": [],
   "source": [
    "CREATE USER 'jira'@'%' IDENTIFIED BY 'jira';\n",
    "GRANT ALL PRIVILEGES ON *.* TO 'jira'@'%';"
   ]
  },
  {
   "cell_type": "code",
   "execution_count": 9,
   "metadata": {
    "nbpresent": {
     "id": "12c6f7b4-4c93-4fe7-b26f-bfcda93892f0"
    }
   },
   "outputs": [],
   "source": [
    "import os, sys\n",
    "import pymysql\n",
    "import pandas as pd\n",
    "import subprocess\n",
    "import pathlib\n",
    "import mysql.connector\n",
    "from datetime  import datetime \n",
    "import pprint\n",
    "from matplotlib import pyplot as plt\n"
   ]
  },
  {
   "cell_type": "code",
   "execution_count": 3,
   "metadata": {
    "nbpresent": {
     "id": "8dee66b5-e934-4208-b8d7-8f0610b8eb2f"
    }
   },
   "outputs": [],
   "source": [
    "# Execution Example\n",
    "\n",
    "db = 'issues'\n",
    "DataPath = './Data'\n",
    "\n",
    "host = 'localhost'\n",
    "user = 'jira'\n",
    "password = 'jira'\n",
    "port = '3306'\n",
    "\n",
    "files = pathlib.Path(DataPath)# + '/*.csv', recursive=False)"
   ]
  },
  {
   "cell_type": "code",
   "execution_count": 4,
   "metadata": {
    "nbpresent": {
     "id": "f8f45833-50ac-48ea-9b69-c2fac138545d"
    }
   },
   "outputs": [],
   "source": [
    "def run_query(query, host, user, password, database = None ):\n",
    "    '''\n",
    "    This function load a csv file to MySQL table according to\n",
    "    the load_sql statement.\n",
    "    '''\n",
    "    try:\n",
    "        con = pymysql.connect(host=host,\n",
    "                                user=user,\n",
    "                                password=password,\n",
    "                                autocommit=True,\n",
    "                                local_infile=1, database = database)\n",
    "        print('Connected to DB: {}'.format(host))\n",
    "        # Create cursor and execute Load SQL\n",
    "        cursor = con.cursor()\n",
    "        cursor.execute(query)\n",
    "        print('query run succuessfully.')\n",
    "        con.close()\n",
    "        return cursor.fetchall()\n",
    "       \n",
    "    except Exception as e:\n",
    "        print('Error: {}'.format(str(e)))\n",
    "        sys.exit(1)"
   ]
  },
  {
   "cell_type": "markdown",
   "metadata": {
    "nbpresent": {
     "id": "786f017d-edee-41ad-8620-c4da22a5f30c"
    }
   },
   "source": [
    "## Data Exploration"
   ]
  },
  {
   "cell_type": "code",
   "execution_count": 21,
   "metadata": {
    "nbpresent": {
     "id": "593395b5-fe51-47f0-9fef-af38d13d5579"
    }
   },
   "outputs": [],
   "source": [
    "con = mysql.connector.connect(\n",
    "      host=host,\n",
    "      user=user,\n",
    "      passwd=password,\n",
    "      database=db)"
   ]
  },
  {
   "cell_type": "code",
   "execution_count": 54,
   "metadata": {},
   "outputs": [
    {
     "data": {
      "text/plain": [
       "'ID,issueid,AUTHOR,CREATED,ID,groupid,FIELDTYPE,FIELD,OLDVALUE,OLDSTRING,NEWVALUE,NEWSTRING\\n946521,91221,jeff.kozloff,183330695282512,1508173,946521,jira,priority,NULL,NULL,3,Medium\\n946521,91221,jeff.kozloff,183330695282512,1508174,946521,jira,labels,NULL,,NULL,MVP\\n946529,91256,jeff.kozloff,183330695283180,1508189,946529,jira,priority,NULL,NULL,3,Medium\\n946529,91256,jeff.kozloff,183330695283180,1508190,946529,jira,labels,NULL,,NULL,MVP\\n946532,91062,jeff.kozloff,183330695283408,1508195,946532,jira'"
      ]
     },
     "execution_count": 54,
     "metadata": {},
     "output_type": "execute_result"
    }
   ],
   "source": [
    "data = pp.read_text()  \n",
    "data[:500]"
   ]
  },
  {
   "cell_type": "code",
   "execution_count": 50,
   "metadata": {},
   "outputs": [],
   "source": [
    "#Example 1\n",
    "request = {'issueid': 163623, 'CREATED': 186421716416622}"
   ]
  },
  {
   "cell_type": "code",
   "execution_count": 12,
   "metadata": {},
   "outputs": [],
   "source": [
    "#Example 2\n",
    "request = {'issueid': 133474, 'CREATED': 186925578209167}"
   ]
  },
  {
   "cell_type": "code",
   "execution_count": 64,
   "metadata": {},
   "outputs": [],
   "source": [
    "changes = pd.read_sql(f\"\"\"  \n",
    "                        select * \n",
    "                        from changegroup_changeitem \n",
    "                        where issueid  = {request['issueid']} \n",
    "                        order by groupid desc;\"\"\",con)\n",
    "                        \n",
    "                        #and CREATED < {request['CREATED']}"
   ]
  },
  {
   "cell_type": "code",
   "execution_count": 65,
   "metadata": {},
   "outputs": [
    {
     "data": {
      "text/html": [
       "<div>\n",
       "<style scoped>\n",
       "    .dataframe tbody tr th:only-of-type {\n",
       "        vertical-align: middle;\n",
       "    }\n",
       "\n",
       "    .dataframe tbody tr th {\n",
       "        vertical-align: top;\n",
       "    }\n",
       "\n",
       "    .dataframe thead th {\n",
       "        text-align: right;\n",
       "    }\n",
       "</style>\n",
       "<table border=\"1\" class=\"dataframe\">\n",
       "  <thead>\n",
       "    <tr style=\"text-align: right;\">\n",
       "      <th></th>\n",
       "      <th>ID</th>\n",
       "      <th>issueid</th>\n",
       "      <th>AUTHOR</th>\n",
       "      <th>CREATED</th>\n",
       "      <th>ID_2</th>\n",
       "      <th>groupid</th>\n",
       "      <th>FIELDTYPE</th>\n",
       "      <th>FIELD</th>\n",
       "      <th>OLDVALUE</th>\n",
       "      <th>OLDSTRING</th>\n",
       "      <th>NEWVALUE</th>\n",
       "      <th>NEWSTRING</th>\n",
       "    </tr>\n",
       "  </thead>\n",
       "  <tbody>\n",
       "    <tr>\n",
       "      <th>0</th>\n",
       "      <td>2125636.0</td>\n",
       "      <td>163623.0</td>\n",
       "      <td>thuan.pham</td>\n",
       "      <td>1.869213e+14</td>\n",
       "      <td>3174022.0</td>\n",
       "      <td>2125636.0</td>\n",
       "      <td>jira</td>\n",
       "      <td>labels</td>\n",
       "      <td>None</td>\n",
       "      <td>Exapps MBCQA NOV-06</td>\n",
       "      <td>None</td>\n",
       "      <td>BE_Issue Exapps MBCQA NOV-06</td>\n",
       "    </tr>\n",
       "    <tr>\n",
       "      <th>1</th>\n",
       "      <td>2045027.0</td>\n",
       "      <td>163623.0</td>\n",
       "      <td>tala.alnaber</td>\n",
       "      <td>1.865219e+14</td>\n",
       "      <td>3041156.0</td>\n",
       "      <td>2045027.0</td>\n",
       "      <td>jira</td>\n",
       "      <td>status</td>\n",
       "      <td>11030</td>\n",
       "      <td>Verified</td>\n",
       "      <td>6</td>\n",
       "      <td>Closed</td>\n",
       "    </tr>\n",
       "    <tr>\n",
       "      <th>2</th>\n",
       "      <td>2041736.0</td>\n",
       "      <td>163623.0</td>\n",
       "      <td>hai.hoang</td>\n",
       "      <td>1.865090e+14</td>\n",
       "      <td>3035578.0</td>\n",
       "      <td>2041736.0</td>\n",
       "      <td>jira</td>\n",
       "      <td>assignee</td>\n",
       "      <td>hai.hoang</td>\n",
       "      <td>Hai Hoang</td>\n",
       "      <td>tala.alnaber</td>\n",
       "      <td>Tala Alnaber</td>\n",
       "    </tr>\n",
       "    <tr>\n",
       "      <th>3</th>\n",
       "      <td>2041735.0</td>\n",
       "      <td>163623.0</td>\n",
       "      <td>hai.hoang</td>\n",
       "      <td>1.865090e+14</td>\n",
       "      <td>3035577.0</td>\n",
       "      <td>2041735.0</td>\n",
       "      <td>jira</td>\n",
       "      <td>status</td>\n",
       "      <td>5</td>\n",
       "      <td>Resolved</td>\n",
       "      <td>11030</td>\n",
       "      <td>Verified</td>\n",
       "    </tr>\n",
       "    <tr>\n",
       "      <th>4</th>\n",
       "      <td>2036105.0</td>\n",
       "      <td>163623.0</td>\n",
       "      <td>sang.le</td>\n",
       "      <td>1.864789e+14</td>\n",
       "      <td>3026628.0</td>\n",
       "      <td>2036105.0</td>\n",
       "      <td>jira</td>\n",
       "      <td>status</td>\n",
       "      <td>11724</td>\n",
       "      <td>In Review</td>\n",
       "      <td>5</td>\n",
       "      <td>Resolved</td>\n",
       "    </tr>\n",
       "    <tr>\n",
       "      <th>...</th>\n",
       "      <td>...</td>\n",
       "      <td>...</td>\n",
       "      <td>...</td>\n",
       "      <td>...</td>\n",
       "      <td>...</td>\n",
       "      <td>...</td>\n",
       "      <td>...</td>\n",
       "      <td>...</td>\n",
       "      <td>...</td>\n",
       "      <td>...</td>\n",
       "      <td>...</td>\n",
       "      <td>...</td>\n",
       "    </tr>\n",
       "    <tr>\n",
       "      <th>63</th>\n",
       "      <td>2009637.0</td>\n",
       "      <td>163623.0</td>\n",
       "      <td>tram.nguyen</td>\n",
       "      <td>1.863758e+14</td>\n",
       "      <td>2984166.0</td>\n",
       "      <td>2009637.0</td>\n",
       "      <td>jira</td>\n",
       "      <td>assignee</td>\n",
       "      <td>huybao.nguyen</td>\n",
       "      <td>Bao Nguyen Vo Huy</td>\n",
       "      <td>tram.nguyen</td>\n",
       "      <td>Tram Nguyen Thi Phuong</td>\n",
       "    </tr>\n",
       "    <tr>\n",
       "      <th>64</th>\n",
       "      <td>2009528.0</td>\n",
       "      <td>163623.0</td>\n",
       "      <td>momen.barakat</td>\n",
       "      <td>1.863715e+14</td>\n",
       "      <td>2984010.0</td>\n",
       "      <td>2009528.0</td>\n",
       "      <td>jira</td>\n",
       "      <td>assignee</td>\n",
       "      <td>salim.haddad</td>\n",
       "      <td>Salim Haddad</td>\n",
       "      <td>huybao.nguyen</td>\n",
       "      <td>Bao Nguyen Vo Huy</td>\n",
       "    </tr>\n",
       "    <tr>\n",
       "      <th>65</th>\n",
       "      <td>2009527.0</td>\n",
       "      <td>163623.0</td>\n",
       "      <td>momen.barakat</td>\n",
       "      <td>1.863715e+14</td>\n",
       "      <td>2984009.0</td>\n",
       "      <td>2009527.0</td>\n",
       "      <td>jira</td>\n",
       "      <td>priority</td>\n",
       "      <td>3</td>\n",
       "      <td>Medium</td>\n",
       "      <td>1</td>\n",
       "      <td>Highest</td>\n",
       "    </tr>\n",
       "    <tr>\n",
       "      <th>66</th>\n",
       "      <td>2009526.0</td>\n",
       "      <td>163623.0</td>\n",
       "      <td>momen.barakat</td>\n",
       "      <td>1.863715e+14</td>\n",
       "      <td>2984008.0</td>\n",
       "      <td>2009526.0</td>\n",
       "      <td>jira</td>\n",
       "      <td>description</td>\n",
       "      <td>None</td>\n",
       "      <td>Steps:\\n # Navigate to any page\\n # click on a...</td>\n",
       "      <td>None</td>\n",
       "      <td>Steps:\\n # Navigate to a page that has apps, f...</td>\n",
       "    </tr>\n",
       "    <tr>\n",
       "      <th>67</th>\n",
       "      <td>2009078.0</td>\n",
       "      <td>163623.0</td>\n",
       "      <td>tala.alnaber</td>\n",
       "      <td>1.863715e+14</td>\n",
       "      <td>2983290.0</td>\n",
       "      <td>2009078.0</td>\n",
       "      <td>jira</td>\n",
       "      <td>description</td>\n",
       "      <td>None</td>\n",
       "      <td>Navigate to any page\\n\\nclick on apps tab\\n\\nn...</td>\n",
       "      <td>None</td>\n",
       "      <td>Steps:\\n # Navigate to any page\\n # click on a...</td>\n",
       "    </tr>\n",
       "  </tbody>\n",
       "</table>\n",
       "<p>68 rows × 12 columns</p>\n",
       "</div>"
      ],
      "text/plain": [
       "           ID   issueid         AUTHOR       CREATED       ID_2    groupid  \\\n",
       "0   2125636.0  163623.0     thuan.pham  1.869213e+14  3174022.0  2125636.0   \n",
       "1   2045027.0  163623.0   tala.alnaber  1.865219e+14  3041156.0  2045027.0   \n",
       "2   2041736.0  163623.0      hai.hoang  1.865090e+14  3035578.0  2041736.0   \n",
       "3   2041735.0  163623.0      hai.hoang  1.865090e+14  3035577.0  2041735.0   \n",
       "4   2036105.0  163623.0        sang.le  1.864789e+14  3026628.0  2036105.0   \n",
       "..        ...       ...            ...           ...        ...        ...   \n",
       "63  2009637.0  163623.0    tram.nguyen  1.863758e+14  2984166.0  2009637.0   \n",
       "64  2009528.0  163623.0  momen.barakat  1.863715e+14  2984010.0  2009528.0   \n",
       "65  2009527.0  163623.0  momen.barakat  1.863715e+14  2984009.0  2009527.0   \n",
       "66  2009526.0  163623.0  momen.barakat  1.863715e+14  2984008.0  2009526.0   \n",
       "67  2009078.0  163623.0   tala.alnaber  1.863715e+14  2983290.0  2009078.0   \n",
       "\n",
       "   FIELDTYPE        FIELD       OLDVALUE  \\\n",
       "0       jira       labels           None   \n",
       "1       jira       status          11030   \n",
       "2       jira     assignee      hai.hoang   \n",
       "3       jira       status              5   \n",
       "4       jira       status          11724   \n",
       "..       ...          ...            ...   \n",
       "63      jira     assignee  huybao.nguyen   \n",
       "64      jira     assignee   salim.haddad   \n",
       "65      jira     priority              3   \n",
       "66      jira  description           None   \n",
       "67      jira  description           None   \n",
       "\n",
       "                                            OLDSTRING       NEWVALUE  \\\n",
       "0                                 Exapps MBCQA NOV-06           None   \n",
       "1                                            Verified              6   \n",
       "2                                           Hai Hoang   tala.alnaber   \n",
       "3                                            Resolved          11030   \n",
       "4                                           In Review              5   \n",
       "..                                                ...            ...   \n",
       "63                                  Bao Nguyen Vo Huy    tram.nguyen   \n",
       "64                                       Salim Haddad  huybao.nguyen   \n",
       "65                                             Medium              1   \n",
       "66  Steps:\\n # Navigate to any page\\n # click on a...           None   \n",
       "67  Navigate to any page\\n\\nclick on apps tab\\n\\nn...           None   \n",
       "\n",
       "                                            NEWSTRING  \n",
       "0                        BE_Issue Exapps MBCQA NOV-06  \n",
       "1                                              Closed  \n",
       "2                                        Tala Alnaber  \n",
       "3                                            Verified  \n",
       "4                                            Resolved  \n",
       "..                                                ...  \n",
       "63                             Tram Nguyen Thi Phuong  \n",
       "64                                  Bao Nguyen Vo Huy  \n",
       "65                                            Highest  \n",
       "66  Steps:\\n # Navigate to a page that has apps, f...  \n",
       "67  Steps:\\n # Navigate to any page\\n # click on a...  \n",
       "\n",
       "[68 rows x 12 columns]"
      ]
     },
     "execution_count": 65,
     "metadata": {},
     "output_type": "execute_result"
    }
   ],
   "source": [
    "changes"
   ]
  },
  {
   "cell_type": "code",
   "execution_count": 54,
   "metadata": {},
   "outputs": [],
   "source": [
    "change = pd.read_sql(f\"\"\"select *\n",
    "                        from changegroup_changeitem \n",
    "                        where issueid  = {request['issueid']} and CREATED < {request['CREATED']}\n",
    "                        order by CREATED desc\n",
    "                        limit 1\"\"\",con)"
   ]
  },
  {
   "cell_type": "code",
   "execution_count": 55,
   "metadata": {},
   "outputs": [
    {
     "data": {
      "text/html": [
       "<div>\n",
       "<style scoped>\n",
       "    .dataframe tbody tr th:only-of-type {\n",
       "        vertical-align: middle;\n",
       "    }\n",
       "\n",
       "    .dataframe tbody tr th {\n",
       "        vertical-align: top;\n",
       "    }\n",
       "\n",
       "    .dataframe thead th {\n",
       "        text-align: right;\n",
       "    }\n",
       "</style>\n",
       "<table border=\"1\" class=\"dataframe\">\n",
       "  <thead>\n",
       "    <tr style=\"text-align: right;\">\n",
       "      <th></th>\n",
       "      <th>ID</th>\n",
       "      <th>issueid</th>\n",
       "      <th>AUTHOR</th>\n",
       "      <th>CREATED</th>\n",
       "      <th>ID_2</th>\n",
       "      <th>groupid</th>\n",
       "      <th>FIELDTYPE</th>\n",
       "      <th>FIELD</th>\n",
       "      <th>OLDVALUE</th>\n",
       "      <th>OLDSTRING</th>\n",
       "      <th>NEWVALUE</th>\n",
       "      <th>NEWSTRING</th>\n",
       "    </tr>\n",
       "  </thead>\n",
       "  <tbody>\n",
       "    <tr>\n",
       "      <th>0</th>\n",
       "      <td>2021929.0</td>\n",
       "      <td>163623.0</td>\n",
       "      <td>huybao.nguyen</td>\n",
       "      <td>1.864145e+14</td>\n",
       "      <td>3003700.0</td>\n",
       "      <td>2021929.0</td>\n",
       "      <td>jira</td>\n",
       "      <td>RemoteIssueLink</td>\n",
       "      <td>None</td>\n",
       "      <td>None</td>\n",
       "      <td>61022</td>\n",
       "      <td>This issue links to \"Page (Pyco Confluence)\"</td>\n",
       "    </tr>\n",
       "  </tbody>\n",
       "</table>\n",
       "</div>"
      ],
      "text/plain": [
       "          ID   issueid         AUTHOR       CREATED       ID_2    groupid  \\\n",
       "0  2021929.0  163623.0  huybao.nguyen  1.864145e+14  3003700.0  2021929.0   \n",
       "\n",
       "  FIELDTYPE            FIELD OLDVALUE OLDSTRING NEWVALUE  \\\n",
       "0      jira  RemoteIssueLink     None      None    61022   \n",
       "\n",
       "                                      NEWSTRING  \n",
       "0  This issue links to \"Page (Pyco Confluence)\"  "
      ]
     },
     "execution_count": 55,
     "metadata": {},
     "output_type": "execute_result"
    }
   ],
   "source": [
    "change"
   ]
  },
  {
   "cell_type": "markdown",
   "metadata": {},
   "source": [
    "## A diagram of events of a single issue across time "
   ]
  },
  {
   "cell_type": "code",
   "execution_count": 66,
   "metadata": {},
   "outputs": [
    {
     "data": {
      "text/plain": [
       "<matplotlib.legend.Legend at 0x7f121aa34c50>"
      ]
     },
     "execution_count": 66,
     "metadata": {},
     "output_type": "execute_result"
    },
    {
     "data": {
      "image/png": "[encoded data removed]",
      "text/plain": [
       "<Figure size 648x648 with 1 Axes>"
      ]
     },
     "metadata": {
      "needs_background": "light"
     },
     "output_type": "display_data"
    }
   ],
   "source": [
    "%matplotlib inline\n",
    "#%matplotlib notebook\n",
    "w = len(changes)\n",
    "plt.figure(figsize=[9,9])\n",
    "plt.scatter(list(range(len(changes))),changes.CREATED,c=changes.CREATED, cmap='prism', label='change event')\n",
    "plt.hlines(change.CREATED, xmin=0, xmax=(w+1)/2,color='blue', label= 'last change before requested time')\n",
    "plt.hlines(request['CREATED'], xmin=(w+1)/2, xmax=w+1,color='red', label= 'requested time')\n",
    "plt.legend(loc=7)"
   ]
  },
  {
   "cell_type": "markdown",
   "metadata": {},
   "source": [
    "## A diagram of specific  fields changes across time"
   ]
  },
  {
   "cell_type": "code",
   "execution_count": 67,
   "metadata": {},
   "outputs": [
    {
     "data": {
      "text/plain": [
       "([0, 1, 2, 3, 4, 5, 6, 7, 8, 9, 10, 11, 12, 13, 14, 15, 16, 17],\n",
       " <a list of 18 Text xticklabel objects>)"
      ]
     },
     "execution_count": 67,
     "metadata": {},
     "output_type": "execute_result"
    },
    {
     "data": {
      "image/png": "[encoded data removed]",
      "text/plain": [
       "<Figure size 1152x648 with 1 Axes>"
      ]
     },
     "metadata": {
      "needs_background": "light"
     },
     "output_type": "display_data"
    }
   ],
   "source": [
    "%matplotlib inline\n",
    "plt.figure(figsize=[16,9])\n",
    "plt.scatter(changes.FIELD,changes.CREATED,c=changes.groupid, cmap='prism')\n",
    "plt.xticks(rotation=25, ha='right')"
   ]
  },
  {
   "cell_type": "markdown",
   "metadata": {},
   "source": [
    "LEt's get some idea about how reasonable is the timestamp"
   ]
  },
  {
   "cell_type": "code",
   "execution_count": 56,
   "metadata": {},
   "outputs": [
    {
     "data": {
      "text/plain": [
       "'2029/01/26 19:59:44.200500'"
      ]
     },
     "execution_count": 56,
     "metadata": {},
     "output_type": "execute_result"
    }
   ],
   "source": [
    "f = changes.CREATED[0]\n",
    "\n",
    "todate = lambda x: datetime.fromtimestamp(x/100000).strftime(\"%Y/%m/%d %H:%M:%S.%f\")\n",
    "d = todate(f)\n",
    "d"
   ]
  },
  {
   "cell_type": "code",
   "execution_count": null,
   "metadata": {},
   "outputs": [],
   "source": [
    "print(changes.CREATED.to_string(float_format=todate), changes.groupid.to_string())"
   ]
  },
  {
   "cell_type": "code",
   "execution_count": 68,
   "metadata": {
    "nbpresent": {
     "id": "5eb01d3c-1cfc-4b1f-9491-2538ac211200"
    }
   },
   "outputs": [
    {
     "name": "stdout",
     "output_type": "stream",
     "text": [
      "\n",
      "select i.*, t.pname as issue_type \n",
      "from jiraissue i\n",
      "join issuetype t on i.issuetype = t.ID \n",
      "where i.ID = 163623\n",
      "\n",
      "this issue is a Bug\n"
     ]
    }
   ],
   "source": [
    "q = f\"select * from jiraissue where ID = {request['issueid']}\"\n",
    "q = \"\"\"\n",
    "select i.*, t.pname as issue_type \n",
    "from jiraissue i\n",
    "join issuetype t on i.issuetype = t.ID \n",
    "where i.ID = 163623\n",
    "\"\"\"\n",
    "print(q)\n",
    "issue = pd.read_sql(q,con) # \n",
    "print(f'this issue is a {issue.issue_type[0]}')\n"
   ]
  },
  {
   "cell_type": "markdown",
   "metadata": {},
   "source": [
    "## Summary of what fields to take"
   ]
  },
  {
   "cell_type": "code",
   "execution_count": null,
   "metadata": {
    "nbpresent": {
     "id": "cd424995-f66d-499b-8289-e8809651f449"
    }
   },
   "outputs": [],
   "source": [
    "# Created (the date when the bug open)\n",
    "# Closed (the date when the bug solved)\n",
    "# Updated Date (the date when field value changed)\n",
    "# Summary\n",
    "# Description\n",
    "# Closed date (if applicable) \n",
    "# Status\n",
    "# Priority\n",
    "# Assignee\n",
    "# Reporter"
   ]
  },
  {
   "cell_type": "raw",
   "metadata": {},
   "source": [
    "CREATED           [jiraissue].CREATED (the date when the bug open)\n",
    "CLOSED            [changegrp].CREATED where.FIELD == issuestatus and NEWSTRING = Closed last time for the issue\n",
    "UPDATED     ?     [changegrp].CREATED from these fields below, which is the latest \n",
    "SUMMARY           [changegrp].NEWSTRING where.FIELD == Summary and just before given time\n",
    "DESCRIPTION       [changegrp].NEWSTRING where.FIELD == Description and just before given time\n",
    "Closed date       [jiraissue].RESOLUTIONDATE (can be timestamp or null)\n",
    "Status            [changegrp].NEWSTRING where.FIELD == status and just before given time\n",
    "PRIORITY          [changegrp].NEWSTRING where.FIELD == priority and just before given time\n",
    "ASSIGNEE          [changegrp].NEWSTRING where.FIELD == Assignee and just before given time\n",
    "REPORTER          [changegrp].NEWSTRING where.FIELD == Reporter and just before given time\n",
    "TYPE              [changegrp].NEWSTRING where.FIELD == issuetype and just before given time"
   ]
  },
  {
   "cell_type": "code",
   "execution_count": 514,
   "metadata": {},
   "outputs": [],
   "source": [
    "req_fields = {'status':1, 'Priority':1,'Assignee':1,'Reporter':1,'issuetype':1,'Summary':1,'Description':1}"
   ]
  },
  {
   "cell_type": "markdown",
   "metadata": {},
   "source": [
    "## A draft for the main API function"
   ]
  },
  {
   "cell_type": "code",
   "execution_count": 645,
   "metadata": {},
   "outputs": [
    {
     "name": "stdout",
     "output_type": "stream",
     "text": [
      "           ID   issueid         AUTHOR       CREATED       ID_2    groupid  \\\n",
      "0   2029581.0  163623.0       tao.tran  1.864617e+14  3016056.0  2029581.0   \n",
      "3   2029172.0  163623.0   hung.phamtan  1.864617e+14  3015333.0  2029172.0   \n",
      "37  2009527.0  163623.0  momen.barakat  1.863715e+14  2984009.0  2009527.0   \n",
      "38  2009526.0  163623.0  momen.barakat  1.863715e+14  2984008.0  2009526.0   \n",
      "\n",
      "   FIELDTYPE        FIELD      OLDVALUE  \\\n",
      "0       jira       status             3   \n",
      "3       jira     assignee  hung.phamtan   \n",
      "37      jira     priority             3   \n",
      "38      jira  description          None   \n",
      "\n",
      "                                            OLDSTRING  NEWVALUE  \\\n",
      "0                                         In Progress     11724   \n",
      "3                                       Hung Pham Tan  tao.tran   \n",
      "37                                             Medium         1   \n",
      "38  Steps:\\n # Navigate to any page\\n # click on a...      None   \n",
      "\n",
      "                                            NEWSTRING  \n",
      "0                                           In Review  \n",
      "3                                        Tao Tran Van  \n",
      "37                                            Highest  \n",
      "38  Steps:\\n # Navigate to a page that has apps, f...  \n"
     ]
    }
   ],
   "source": [
    "now = pd.DataFrame(data=None, columns=changes.columns)\n",
    "req_fields = {'status':1, 'priority':1,'assignee':1,'reporter':1,'issuetype':1,'summary':1,'description':1}\n",
    "\n",
    "for index, row in changes.iterrows():\n",
    "\n",
    "\n",
    "    #print(row.FIELD)            #is empty\n",
    "    if not req_fields:\n",
    "\n",
    "        break\n",
    "    if row.FIELD.lower() in req_fields:\n",
    "\n",
    "        now = now.append(row)\n",
    "        del req_fields[row.FIELD]\n",
    "        \n",
    "result = {'created': issue.CREATED[0], 'closed':issueclosed.CREATED[0],'updated':now.CREATED.max(),'summary':None,\n",
    "          'description':None, 'closed_date':issue.RESOLUTIONDATE[0], 'status':None, \n",
    "          'priority':None,'assignee':None,'reporter':None,'issuetype':issue.issue_type[0]}\n",
    "\n",
    "for index, row in now.iterrows():\n",
    "    result[row.FIELD] = row.NEWSTRING if not None else  row.NEWVALUE\n",
    "print(now)  "
   ]
  }
 ],
 "metadata": {
  "kernelspec": {
   "display_name": "Python 3.6.8 64-bit ('base': conda)",
   "language": "python",
   "name": "python36864bitbasecondafc69dd6a5af34e768587f8c9cc2e53c4"
  },
  "language_info": {
   "codemirror_mode": {
    "name": "ipython",
    "version": 3
   },
   "file_extension": ".py",
   "mimetype": "text/x-python",
   "name": "python",
   "nbconvert_exporter": "python",
   "pygments_lexer": "ipython3",
   "version": "3.6.10"
  }
 },
 "nbformat": 4,
 "nbformat_minor": 2
}
