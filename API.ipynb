{
 "cells": [
  {
   "cell_type": "code",
   "execution_count": 2,
   "metadata": {
    "nbpresent": {
     "id": "12c6f7b4-4c93-4fe7-b26f-bfcda93892f0"
    }
   },
   "outputs": [],
   "source": [
    "import os, sys\n",
    "import pymysql\n",
    "import pandas as pd\n",
    "import subprocess\n",
    "import pathlib\n",
    "import mysql.connector\n",
    "from datetime  import datetime \n",
    "from pprint import pprint"
   ]
  },
  {
   "cell_type": "code",
   "execution_count": 9,
   "metadata": {
    "nbpresent": {
     "id": "8dee66b5-e934-4208-b8d7-8f0610b8eb2f"
    }
   },
   "outputs": [
    {
     "data": {
      "text/plain": [
       "[PosixPath('Data/issuelink.sql'),\n",
       " PosixPath('Data/AO_60DB71_SPRINT.csv'),\n",
       " PosixPath('Data/AO_60DB71_SPRINT.sql'),\n",
       " PosixPath('Data/audit_changed_value.csv'),\n",
       " PosixPath('Data/audit_changed_value.sql'),\n",
       " PosixPath('Data/audit_item.csv'),\n",
       " PosixPath('Data/audit_item.sql'),\n",
       " PosixPath('Data/audit_log.csv'),\n",
       " PosixPath('Data/audit_log.sql'),\n",
       " PosixPath('Data/changegroup_changeitem.csv'),\n",
       " PosixPath('Data/changegroup_changeitem.sql'),\n",
       " PosixPath('Data/customfield.csv'),\n",
       " PosixPath('Data/customfield.sql'),\n",
       " PosixPath('Data/customfieldoption.csv'),\n",
       " PosixPath('Data/customfieldoption.sql'),\n",
       " PosixPath('Data/customfieldvalue.csv'),\n",
       " PosixPath('Data/customfieldvalue.sql'),\n",
       " PosixPath('Data/issuelink.csv'),\n",
       " PosixPath('Data/issuelinktype.csv'),\n",
       " PosixPath('Data/issuelinktype.sql'),\n",
       " PosixPath('Data/issues.db'),\n",
       " PosixPath('Data/issuestatus.csv'),\n",
       " PosixPath('Data/issuestatus.sql'),\n",
       " PosixPath('Data/issuetype.csv'),\n",
       " PosixPath('Data/issuetype.sql'),\n",
       " PosixPath('Data/jiraaction.csv'),\n",
       " PosixPath('Data/jiraaction.sql'),\n",
       " PosixPath('Data/jiraissue.csv'),\n",
       " PosixPath('Data/jiraissue.sql'),\n",
       " PosixPath('Data/maketable.sql'),\n",
       " PosixPath('Data/priority.csv'),\n",
       " PosixPath('Data/priority.sql'),\n",
       " PosixPath('Data/project.csv'),\n",
       " PosixPath('Data/project.sql'),\n",
       " PosixPath('Data/projectversion.csv'),\n",
       " PosixPath('Data/projectversion.sql'),\n",
       " PosixPath('Data/resolution.csv'),\n",
       " PosixPath('Data/resolution.sql'),\n",
       " PosixPath('Data/worklog.csv'),\n",
       " PosixPath('Data/worklog.sql')]"
      ]
     },
     "execution_count": 9,
     "metadata": {},
     "output_type": "execute_result"
    }
   ],
   "source": [
    "# Parameters\n",
    "\n",
    "db = 'issues'\n",
    "DataPath = './Data'\n",
    "\n",
    "host = 'localhost'\n",
    "user = 'jira'\n",
    "password = 'jira'\n",
    "port = '3306'\n",
    "\n",
    "files = pathlib.Path(DataPath)# + '/*.csv', recursive=False)\n",
    "list(files.glob('*.*'))"
   ]
  },
  {
   "cell_type": "markdown",
   "metadata": {
    "nbpresent": {
     "id": "786f017d-edee-41ad-8620-c4da22a5f30c"
    }
   },
   "source": [
    "## Selecting"
   ]
  },
  {
   "cell_type": "code",
   "execution_count": 4,
   "metadata": {
    "nbpresent": {
     "id": "593395b5-fe51-47f0-9fef-af38d13d5579"
    }
   },
   "outputs": [],
   "source": [
    "con = mysql.connector.connect(\n",
    "      host=host,\n",
    "      user=user,\n",
    "      passwd=password,\n",
    "      database=db\n",
    "    )"
   ]
  },
  {
   "cell_type": "code",
   "execution_count": 43,
   "metadata": {},
   "outputs": [],
   "source": [
    "def GetIssueAtTime(issueid, AtTime):\n",
    "    changes = pd.read_sql( f\"\"\"\n",
    "    select * \n",
    "    from changegroup_changeitem \n",
    "    where issueid ={issueid} and CREATED < {AtTime}\n",
    "    order by groupid desc; \"\"\",con)\n",
    "\n",
    "    issueclosed = pd.read_sql(f\"\"\"select  CREATED\n",
    "    from changegroup_changeitem \n",
    "    where issueid = {issueid} and FIELD = 'status' and NEWSTRING = 'Closed'\n",
    "    ORDER by CREATED DESC \n",
    "    limit 1\"\"\", con)\n",
    "\n",
    "    issue = pd.read_sql(f\"\"\"\n",
    "    select i.*, t.pname as issue_type \n",
    "    from jiraissue i\n",
    "    join issuetype t on i.issuetype = t.ID \n",
    "    where i.ID = {issueid} \"\"\",con)\n",
    "    \n",
    "    now = pd.DataFrame(data=None, columns=changes.columns)\n",
    "    req_fields = {'status':1, 'priority':1,'assignee':1,'reporter':1,'issuetype':1,'summary':1,'description':1}\n",
    "\n",
    "    for index, row in changes.iterrows():\n",
    "\n",
    "        #is empty\n",
    "        if not req_fields:\n",
    "            break\n",
    "            \n",
    "        if row.FIELD.lower() in req_fields:\n",
    "            now = now.append(row)\n",
    "            del req_fields[row.FIELD]\n",
    "\n",
    "    result = {'created': issue.CREATED[0], 'closed':issueclosed.CREATED[0],'updated':now.CREATED.max()\n",
    "              ,'summary':None, 'description':None, 'closed_date':issue.RESOLUTIONDATE[0], 'status':None, \n",
    "              'priority':None,'assignee':None,'reporter':None,'issuetype':issue.issue_type[0]}\n",
    "\n",
    "    for index, row in now.iterrows():\n",
    "        result[row.FIELD] = row.NEWSTRING if not None else  row.NEWVALUE\n",
    "    return result\n"
   ]
  },
  {
   "cell_type": "code",
   "execution_count": 46,
   "metadata": {},
   "outputs": [],
   "source": [
    "issueid = 163623\n",
    "AtTime= 186461716436622"
   ]
  },
  {
   "cell_type": "code",
   "execution_count": 6,
   "metadata": {},
   "outputs": [],
   "source": [
    "issueid=133474\n",
    "AtTime=186925578209167"
   ]
  },
  {
   "cell_type": "code",
   "execution_count": 47,
   "metadata": {},
   "outputs": [
    {
     "name": "stdout",
     "output_type": "stream",
     "text": [
      "CPU times: user 54.9 ms, sys: 0 ns, total: 54.9 ms\n",
      "Wall time: 1.06 s\n"
     ]
    },
    {
     "data": {
      "text/plain": [
       "{'assignee': 'Tao Tran Van',\n",
       " 'closed': 186521855642488.0,\n",
       " 'closed_date': 186478903486432.0,\n",
       " 'created': 186367238279507.0,\n",
       " 'description': 'Steps:\\n # Navigate to a page that has apps, for example \"HIT Ø§Ù„Ù…ÙˆØ³Ù…\"\\n # click on apps tab\\n\\nActual result: The Apps section is not displaying all the apps published, although these apps are displayed in the Page Stream. for the pageÂ\\xa0\"HIT Ø§Ù„Ù…ÙˆØ³Ù…\" there is actually 10 apps published and live, but when checking the Apps tab in Beta, it is only showing 4.Â\\xa0\\n\\nThis case is applied on multiple other pages that has apps.\\n\\nExpected Results: what is published to FO should appear on both Main Stream and Apps Tab.',\n",
       " 'issuetype': 'Bug',\n",
       " 'priority': 'Highest',\n",
       " 'reporter': None,\n",
       " 'status': 'In Review',\n",
       " 'summary': None,\n",
       " 'updated': 186461716426622.0}"
      ]
     },
     "execution_count": 47,
     "metadata": {},
     "output_type": "execute_result"
    }
   ],
   "source": [
    "time(GetIssueAtTime(issueid, AtTime) )"
   ]
  }
 ],
 "metadata": {
  "kernelspec": {
   "display_name": "Python 3.6.8 64-bit ('base': conda)",
   "language": "python",
   "name": "python36864bitbasecondafc69dd6a5af34e768587f8c9cc2e53c4"
  },
  "language_info": {
   "codemirror_mode": {
    "name": "ipython",
    "version": 3
   },
   "file_extension": ".py",
   "mimetype": "text/x-python",
   "name": "python",
   "nbconvert_exporter": "python",
   "pygments_lexer": "ipython3",
   "version": "3.6.10"
  }
 },
 "nbformat": 4,
 "nbformat_minor": 2
}
